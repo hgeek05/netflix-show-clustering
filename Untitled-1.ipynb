{
 "cells": [
  {
   "cell_type": "markdown",
   "id": "82cc9a2c",
   "metadata": {},
   "source": [
    "# 🎬 Netflix Show Clustering\n",
    "This project uses K-Means clustering to group Netflix shows based on genre, rating, and duration.  \n",
    "It is a beginner-friendly project to learn about unsupervised machine learning!\n",
    "\n"
   ]
  },
  {
   "cell_type": "code",
   "execution_count": null,
   "id": "75e0f51d",
   "metadata": {},
   "outputs": [],
   "source": [
    "import pandas as pd\n",
    "import numpy as np\n",
    "import seaborn as sns\n",
    "import matplotlib.pyplot as plt\n",
    "\n",
    "from sklearn.cluster import KMeans\n",
    "from sklearn.preprocessing import StandardScaler\n",
    "from sklearn.decomposition import PCA\n"
   ]
  },
  {
   "cell_type": "code",
   "execution_count": null,
   "id": "6639cf23",
   "metadata": {},
   "outputs": [],
   "source": [
    "df = pd.read_csv(\"netflix_titles.csv\")\n",
    "df.head()\n"
   ]
  },
  {
   "cell_type": "code",
   "execution_count": null,
   "id": "6f882f5d",
   "metadata": {},
   "outputs": [],
   "source": [
    "# Drop rows with missing values in key columns\n",
    "df.dropna(subset=['rating', 'duration', 'listed_in'], inplace=True)\n",
    "\n",
    "# Extract numeric duration (e.g., \"90 min\" → 90)\n",
    "df['duration'] = df['duration'].str.extract('(\\d+)').astype(float)\n",
    "\n",
    "# Create a simplified 'genre' column (first genre listed)\n",
    "df['genre'] = df['listed_in'].apply(lambda x: x.split(',')[0].strip())\n",
    "\n",
    "df[['title', 'genre', 'rating', 'duration']].head()\n"
   ]
  },
  {
   "cell_type": "code",
   "execution_count": null,
   "id": "df7882e1",
   "metadata": {},
   "outputs": [],
   "source": [
    "# Select relevant features\n",
    "features = df[['genre', 'rating', 'duration']]\n",
    "\n",
    "# One-hot encode genre and rating\n",
    "features_encoded = pd.get_dummies(features, columns=['genre', 'rating'])\n",
    "\n",
    "# Standardize the features\n",
    "scaler = StandardScaler()\n",
    "scaled_features = scaler.fit_transform(features_encoded)\n"
   ]
  },
  {
   "cell_type": "code",
   "execution_count": null,
   "id": "a232a2e5",
   "metadata": {},
   "outputs": [],
   "source": [
    "inertia = []\n",
    "\n",
    "for k in range(1, 11):\n",
    "    kmeans = KMeans(n_clusters=k, random_state=42)\n",
    "    kmeans.fit(scaled_features)\n",
    "    inertia.append(kmeans.inertia_)\n",
    "\n",
    "plt.plot(range(1, 11), inertia, marker='o')\n",
    "plt.title(\"Elbow Method for Optimal K\")\n",
    "plt.xlabel(\"Number of Clusters\")\n",
    "plt.ylabel(\"Inertia\")\n",
    "plt.grid(True)\n",
    "plt.show()\n"
   ]
  },
  {
   "cell_type": "code",
   "execution_count": null,
   "id": "488f1371",
   "metadata": {},
   "outputs": [],
   "source": [
    "k = 4  # Based on elbow method\n",
    "kmeans = KMeans(n_clusters=k, random_state=42)\n",
    "df['cluster'] = kmeans.fit_predict(scaled_features)\n",
    "\n",
    "df[['title', 'genre', 'rating', 'duration', 'cluster']].head()\n"
   ]
  },
  {
   "cell_type": "code",
   "execution_count": null,
   "id": "6e9b8cf5",
   "metadata": {},
   "outputs": [],
   "source": [
    "pca = PCA(n_components=2)\n",
    "pca_features = pca.fit_transform(scaled_features)\n",
    "\n",
    "plt.figure(figsize=(10, 6))\n",
    "sns.scatterplot(x=pca_features[:, 0], y=pca_features[:, 1], hue=df['cluster'], palette=\"Set2\")\n",
    "plt.title(\"Netflix Show Clusters (PCA)\")\n",
    "plt.xlabel(\"PCA Component 1\")\n",
    "plt.ylabel(\"PCA Component 2\")\n",
    "plt.show()\n"
   ]
  },
  {
   "cell_type": "code",
   "execution_count": null,
   "id": "c4f5f4df",
   "metadata": {},
   "outputs": [],
   "source": [
    "# See how shows are grouped\n",
    "for i in range(k):\n",
    "    print(f\"\\n📺 Cluster {i} Sample Shows:\")\n",
    "    print(df[df['cluster'] == i]['title'].sample(5).values)\n"
   ]
  }
 ],
 "metadata": {
  "language_info": {
   "name": "python"
  }
 },
 "nbformat": 4,
 "nbformat_minor": 5
}
